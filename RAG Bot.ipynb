{
  "cells": [
    {
      "cell_type": "markdown",
      "metadata": {
        "id": "tZ8ZvPlDlSn1"
      },
      "source": [
        "### **Installing Dependencies**"
      ]
    },
    {
      "cell_type": "code",
      "execution_count": null,
      "metadata": {
        "colab": {
          "base_uri": "https://localhost:8080/",
          "height": 1000
        },
        "collapsed": true,
        "id": "DlJ5GQmLHZPM",
        "outputId": "8b6e8764-bad6-4610-cb3f-5ef79afc46bd"
      },
      "outputs": [],
      "source": [
        "#installing dependencies, a few here might be redundant. These came up while debugging... So as we say.. don't touch something that's working\n",
        "#this takes about 4-6 mins. and 2 session restarts\n",
        "!pip install langchain\n",
        "!pip install langchain_google_genai\n",
        "!pip install google-generativeai\n",
        "!pip install -U langchain-community\n",
        "!pip install unstructured\n",
        "!pip install \"unstructured[pdf]\"\n",
        "!pip install google-ai-generativelanguage\n",
        "!pip install \"langchain[docarray]\"\n",
        "!pip install python-dotenv\n",
        "#!pip install PyPDF2\n",
        "!pip install PyMuPDF\n",
        "# !pip install pdfminer.six\n",
        "!pip install chromadb\n",
        "!pip install nltk spacy\n",
        "!python -m spacy download en_core_web_sm"
      ]
    },
    {
      "cell_type": "code",
      "execution_count": null,
      "metadata": {
        "id": "E_Y2YNpUH31X"
      },
      "outputs": [],
      "source": [
        "#Connecting to Drive In case you have uploaded pdf's to your own drive\n",
        "# from google.colab import drive\n",
        "# drive.mount('/content/drive')"
      ]
    },
    {
      "cell_type": "code",
      "execution_count": 2,
      "metadata": {
        "colab": {
          "base_uri": "https://localhost:8080/"
        },
        "id": "0Li5UOKfHax0",
        "outputId": "48c5c9c9-5ece-43f3-a815-3a0957eea5b5"
      },
      "outputs": [
        {
          "name": "stderr",
          "output_type": "stream",
          "text": [
            "[nltk_data] Downloading package punkt to /root/nltk_data...\n",
            "[nltk_data]   Unzipping tokenizers/punkt.zip.\n",
            "[nltk_data] Downloading package stopwords to /root/nltk_data...\n",
            "[nltk_data]   Unzipping corpora/stopwords.zip.\n"
          ]
        },
        {
          "data": {
            "text/plain": [
              "True"
            ]
          },
          "execution_count": 2,
          "metadata": {},
          "output_type": "execute_result"
        }
      ],
      "source": [
        "#importing stuff\n",
        "from langchain_google_genai import ChatGoogleGenerativeAI\n",
        "import os\n",
        "import fitz\n",
        "import nltk\n",
        "import spacy\n",
        "import google.generativeai as genai\n",
        "from google.colab import userdata\n",
        "from dotenv import load_dotenv\n",
        "from IPython.display import display\n",
        "from IPython.display import Markdown\n",
        "from google.colab import files\n",
        "from nltk.corpus import stopwords\n",
        "from nltk.tokenize import word_tokenize\n",
        "import urllib\n",
        "from pdfminer.high_level import extract_text\n",
        "\n",
        "from langchain.document_loaders import PyPDFLoader\n",
        "from langchain.chains import RetrievalQA\n",
        "from langchain import PromptTemplate\n",
        "from langchain.chains.question_answering import load_qa_chain\n",
        "from langchain_google_genai import GoogleGenerativeAIEmbeddings\n",
        "from langchain.text_splitter import RecursiveCharacterTextSplitter\n",
        "from langchain_google_genai import ChatGoogleGenerativeAI\n",
        "\n",
        "from langchain.vectorstores import Chroma\n",
        "import re\n",
        "\n",
        "#downloading relavant words for lemmatization and stop words\n",
        "nltk.download('punkt')\n",
        "nltk.download('stopwords')"
      ]
    },
    {
      "cell_type": "markdown",
      "metadata": {
        "id": "EwwMBsLGlsj7"
      },
      "source": [
        "### **Setting up the API Key**\n",
        "Just make a .env file analogous to the .env.example file just insert api key for gemini after the GOOGLE_API_KEY field."
      ]
    },
    {
      "cell_type": "code",
      "execution_count": 3,
      "metadata": {
        "colab": {
          "base_uri": "https://localhost:8080/",
          "height": 73
        },
        "id": "PUofB9dlKO49",
        "outputId": "942c670b-315d-4f36-f1ab-97a2fd543af2"
      },
      "outputs": [
        {
          "data": {
            "text/html": [
              "\n",
              "     <input type=\"file\" id=\"files-6e79eb78-22c5-4d86-84c8-31c297146979\" name=\"files[]\" multiple disabled\n",
              "        style=\"border:none\" />\n",
              "     <output id=\"result-6e79eb78-22c5-4d86-84c8-31c297146979\">\n",
              "      Upload widget is only available when the cell has been executed in the\n",
              "      current browser session. Please rerun this cell to enable.\n",
              "      </output>\n",
              "      <script>// Copyright 2017 Google LLC\n",
              "//\n",
              "// Licensed under the Apache License, Version 2.0 (the \"License\");\n",
              "// you may not use this file except in compliance with the License.\n",
              "// You may obtain a copy of the License at\n",
              "//\n",
              "//      http://www.apache.org/licenses/LICENSE-2.0\n",
              "//\n",
              "// Unless required by applicable law or agreed to in writing, software\n",
              "// distributed under the License is distributed on an \"AS IS\" BASIS,\n",
              "// WITHOUT WARRANTIES OR CONDITIONS OF ANY KIND, either express or implied.\n",
              "// See the License for the specific language governing permissions and\n",
              "// limitations under the License.\n",
              "\n",
              "/**\n",
              " * @fileoverview Helpers for google.colab Python module.\n",
              " */\n",
              "(function(scope) {\n",
              "function span(text, styleAttributes = {}) {\n",
              "  const element = document.createElement('span');\n",
              "  element.textContent = text;\n",
              "  for (const key of Object.keys(styleAttributes)) {\n",
              "    element.style[key] = styleAttributes[key];\n",
              "  }\n",
              "  return element;\n",
              "}\n",
              "\n",
              "// Max number of bytes which will be uploaded at a time.\n",
              "const MAX_PAYLOAD_SIZE = 100 * 1024;\n",
              "\n",
              "function _uploadFiles(inputId, outputId) {\n",
              "  const steps = uploadFilesStep(inputId, outputId);\n",
              "  const outputElement = document.getElementById(outputId);\n",
              "  // Cache steps on the outputElement to make it available for the next call\n",
              "  // to uploadFilesContinue from Python.\n",
              "  outputElement.steps = steps;\n",
              "\n",
              "  return _uploadFilesContinue(outputId);\n",
              "}\n",
              "\n",
              "// This is roughly an async generator (not supported in the browser yet),\n",
              "// where there are multiple asynchronous steps and the Python side is going\n",
              "// to poll for completion of each step.\n",
              "// This uses a Promise to block the python side on completion of each step,\n",
              "// then passes the result of the previous step as the input to the next step.\n",
              "function _uploadFilesContinue(outputId) {\n",
              "  const outputElement = document.getElementById(outputId);\n",
              "  const steps = outputElement.steps;\n",
              "\n",
              "  const next = steps.next(outputElement.lastPromiseValue);\n",
              "  return Promise.resolve(next.value.promise).then((value) => {\n",
              "    // Cache the last promise value to make it available to the next\n",
              "    // step of the generator.\n",
              "    outputElement.lastPromiseValue = value;\n",
              "    return next.value.response;\n",
              "  });\n",
              "}\n",
              "\n",
              "/**\n",
              " * Generator function which is called between each async step of the upload\n",
              " * process.\n",
              " * @param {string} inputId Element ID of the input file picker element.\n",
              " * @param {string} outputId Element ID of the output display.\n",
              " * @return {!Iterable<!Object>} Iterable of next steps.\n",
              " */\n",
              "function* uploadFilesStep(inputId, outputId) {\n",
              "  const inputElement = document.getElementById(inputId);\n",
              "  inputElement.disabled = false;\n",
              "\n",
              "  const outputElement = document.getElementById(outputId);\n",
              "  outputElement.innerHTML = '';\n",
              "\n",
              "  const pickedPromise = new Promise((resolve) => {\n",
              "    inputElement.addEventListener('change', (e) => {\n",
              "      resolve(e.target.files);\n",
              "    });\n",
              "  });\n",
              "\n",
              "  const cancel = document.createElement('button');\n",
              "  inputElement.parentElement.appendChild(cancel);\n",
              "  cancel.textContent = 'Cancel upload';\n",
              "  const cancelPromise = new Promise((resolve) => {\n",
              "    cancel.onclick = () => {\n",
              "      resolve(null);\n",
              "    };\n",
              "  });\n",
              "\n",
              "  // Wait for the user to pick the files.\n",
              "  const files = yield {\n",
              "    promise: Promise.race([pickedPromise, cancelPromise]),\n",
              "    response: {\n",
              "      action: 'starting',\n",
              "    }\n",
              "  };\n",
              "\n",
              "  cancel.remove();\n",
              "\n",
              "  // Disable the input element since further picks are not allowed.\n",
              "  inputElement.disabled = true;\n",
              "\n",
              "  if (!files) {\n",
              "    return {\n",
              "      response: {\n",
              "        action: 'complete',\n",
              "      }\n",
              "    };\n",
              "  }\n",
              "\n",
              "  for (const file of files) {\n",
              "    const li = document.createElement('li');\n",
              "    li.append(span(file.name, {fontWeight: 'bold'}));\n",
              "    li.append(span(\n",
              "        `(${file.type || 'n/a'}) - ${file.size} bytes, ` +\n",
              "        `last modified: ${\n",
              "            file.lastModifiedDate ? file.lastModifiedDate.toLocaleDateString() :\n",
              "                                    'n/a'} - `));\n",
              "    const percent = span('0% done');\n",
              "    li.appendChild(percent);\n",
              "\n",
              "    outputElement.appendChild(li);\n",
              "\n",
              "    const fileDataPromise = new Promise((resolve) => {\n",
              "      const reader = new FileReader();\n",
              "      reader.onload = (e) => {\n",
              "        resolve(e.target.result);\n",
              "      };\n",
              "      reader.readAsArrayBuffer(file);\n",
              "    });\n",
              "    // Wait for the data to be ready.\n",
              "    let fileData = yield {\n",
              "      promise: fileDataPromise,\n",
              "      response: {\n",
              "        action: 'continue',\n",
              "      }\n",
              "    };\n",
              "\n",
              "    // Use a chunked sending to avoid message size limits. See b/62115660.\n",
              "    let position = 0;\n",
              "    do {\n",
              "      const length = Math.min(fileData.byteLength - position, MAX_PAYLOAD_SIZE);\n",
              "      const chunk = new Uint8Array(fileData, position, length);\n",
              "      position += length;\n",
              "\n",
              "      const base64 = btoa(String.fromCharCode.apply(null, chunk));\n",
              "      yield {\n",
              "        response: {\n",
              "          action: 'append',\n",
              "          file: file.name,\n",
              "          data: base64,\n",
              "        },\n",
              "      };\n",
              "\n",
              "      let percentDone = fileData.byteLength === 0 ?\n",
              "          100 :\n",
              "          Math.round((position / fileData.byteLength) * 100);\n",
              "      percent.textContent = `${percentDone}% done`;\n",
              "\n",
              "    } while (position < fileData.byteLength);\n",
              "  }\n",
              "\n",
              "  // All done.\n",
              "  yield {\n",
              "    response: {\n",
              "      action: 'complete',\n",
              "    }\n",
              "  };\n",
              "}\n",
              "\n",
              "scope.google = scope.google || {};\n",
              "scope.google.colab = scope.google.colab || {};\n",
              "scope.google.colab._files = {\n",
              "  _uploadFiles,\n",
              "  _uploadFilesContinue,\n",
              "};\n",
              "})(self);\n",
              "</script> "
            ],
            "text/plain": [
              "<IPython.core.display.HTML object>"
            ]
          },
          "metadata": {},
          "output_type": "display_data"
        },
        {
          "name": "stdout",
          "output_type": "stream",
          "text": [
            "Saving .env to .env\n"
          ]
        }
      ],
      "source": [
        "#the file uploaded here is a .env having the gemini api key formatted as GOOGLE_API_KEY=abcdef123456\n",
        "uploaded = files.upload()\n",
        "for fn in uploaded.keys():\n",
        "    with open(fn, 'wb') as f:\n",
        "        f.write(uploaded[fn])\n",
        "\n",
        "load_dotenv(fn)\n",
        "api_ke = os.getenv('GOOGLE_API_KEY')\n",
        "\n",
        "#print(api_ke)\n",
        "\n",
        "genai.configure(api_key=api_ke)"
      ]
    },
    {
      "cell_type": "markdown",
      "metadata": {
        "id": "HGuwF6yZmDOY"
      },
      "source": [
        "## **Initializing The  Gemini Model**"
      ]
    },
    {
      "cell_type": "code",
      "execution_count": 4,
      "metadata": {
        "id": "FLjQ6n1_KQrZ"
      },
      "outputs": [],
      "source": [
        "model = ChatGoogleGenerativeAI(model=\"gemini-1.5-flash\",google_api_key=api_ke,\n",
        "                             temperature=0.2,convert_system_message_to_human=True)"
      ]
    },
    {
      "cell_type": "markdown",
      "metadata": {
        "id": "osErC_89mJsJ"
      },
      "source": [
        "## **Processing PDFs**\n",
        "### **Uploading PDFs**\n",
        "Firstly extract and upload the extracted zip folder. Correct the file path as necessary.\n",
        "\n",
        "### **Pre-Processing PDFs**\n",
        "First we download stop words which hold negligible semantic meaning from the library. Then we tokenize using space, furhter we lematize the words while also stripping trailing and leading whitespaces. Finally we convert it into a single string. I had earlier also removed punctuation marks but it was impeding the CG cutoff values.\n",
        "\n",
        "### **Extracting Text From PDFs**\n",
        "We use the PyMuPDF library to extract text from the pdfs. Then we initialize and store  text based on the title of the pdf. So we make a combined list in all_pages and 2 seperate ones for si and placement chronicles"
      ]
    },
    {
      "cell_type": "code",
      "execution_count": 6,
      "metadata": {
        "colab": {
          "base_uri": "https://localhost:8080/"
        },
        "id": "ijxyyDoWKcnv",
        "outputId": "bb8755d9-95d5-4d42-87b6-b20d4b46530c"
      },
      "outputs": [
        {
          "name": "stdout",
          "output_type": "stream",
          "text": [
            "2\n",
            "1\n",
            "1\n"
          ]
        }
      ],
      "source": [
        "#if taking from mydrive\n",
        "# pdf_folder_path = \"/content/drive/MyDrive/pdf_files\"\n",
        "\n",
        "#make a folder with name pdf_files upload both pdfs into it\n",
        "pdf_folder_path = \"/content/pdf_files\"\n",
        "\n",
        "pdf_files = [f for f in os.listdir(pdf_folder_path) if f.endswith('.pdf')]\n",
        "\n",
        "all_pages = []\n",
        "pi_pages = []\n",
        "si_pages = []\n",
        "\n",
        "nlp = spacy.load(\"en_core_web_sm\")\n",
        "stop_words = set(stopwords.words('english'))\n",
        "\n",
        "def preprocess_text(text):\n",
        "    # text = re.sub(r'[^\\w\\s+]', '', text)\n",
        "\n",
        "    doc = nlp(text)\n",
        "    # Remove stopwords and lemmatize\n",
        "    processed_words = []\n",
        "    for token in doc:\n",
        "        if token.text.lower() not in stop_words:\n",
        "            processed_words.append(token.lemma_)\n",
        "\n",
        "    processed_text = ' '.join(processed_words).strip()\n",
        "    return processed_text\n",
        "\n",
        "\n",
        "def extract_text_from_pdf(pdf_path):\n",
        "    text = \"\"\n",
        "    document = fitz.open(pdf_path)\n",
        "    for page_num in range(len(document)):\n",
        "        page = document.load_page(page_num)\n",
        "        text += page.get_text()\n",
        "    text = preprocess_text(text)\n",
        "    return text\n",
        "\n",
        "for pdf_file in pdf_files:\n",
        "    file_name = os.path.splitext(pdf_file)[0]\n",
        "\n",
        "    pdf_path = os.path.join(pdf_folder_path, pdf_file)\n",
        "    text = extract_text_from_pdf(pdf_path)\n",
        "    all_pages.append(text)\n",
        "\n",
        "    if \"placement chronicles\" in file_name.lower():\n",
        "        pi_pages.append(text)\n",
        "    elif \"si chronicles\" in file_name.lower():\n",
        "        si_pages.append(text)\n",
        "\n",
        "#print(all_pages[28].page_content)\n",
        "print(len(all_pages))\n",
        "print(len(si_pages))\n",
        "print(len(pi_pages))\n"
      ]
    },
    {
      "cell_type": "code",
      "execution_count": null,
      "metadata": {
        "collapsed": true,
        "id": "rbdE-JZ5_ANa"
      },
      "outputs": [],
      "source": [
        "# print(pi_pages[0])"
      ]
    },
    {
      "cell_type": "markdown",
      "metadata": {
        "id": "YE4Q5dxWoRjr"
      },
      "source": [
        "### **Text Processing**\n",
        "Firstly we combine the pages into a single string removing leading and trailing whitespaces in the process. Then we break the text into chunks of desirable size."
      ]
    },
    {
      "cell_type": "code",
      "execution_count": 7,
      "metadata": {
        "colab": {
          "base_uri": "https://localhost:8080/"
        },
        "id": "TfnezxXXKeUD",
        "outputId": "c527d8c2-a589-444a-9a24-d39e3a3ae0a1"
      },
      "outputs": [
        {
          "name": "stdout",
          "output_type": "stream",
          "text": [
            "202\n",
            "82\n",
            "120\n"
          ]
        }
      ],
      "source": [
        "text_splitter = RecursiveCharacterTextSplitter(chunk_size=1500, chunk_overlap=750)\n",
        "\n",
        "context_all = \"\\n\\n\".join(str(p) for p in all_pages)\n",
        "context_pi = \"\\n\\n\".join(str(p) for p in pi_pages)\n",
        "context_si = \"\\n\\n\".join(str(p) for p in si_pages)\n",
        "\n",
        "context_all = context_all.strip()\n",
        "context_pi = context_pi.strip()\n",
        "context_si = context_si.strip()\n",
        "\n",
        "texts = text_splitter.split_text(context_all)\n",
        "pi_texts = text_splitter.split_text(context_pi)\n",
        "si_texts = text_splitter.split_text(context_si)\n",
        "\n",
        "print(len(texts))\n",
        "print(len(pi_texts))\n",
        "print(len(si_texts))\n",
        "\n",
        "# print(\"texts:\", texts)\n",
        "# print(\"pi_texts:\", pi_texts)\n",
        "# print(\"si_texts:\", si_texts)"
      ]
    },
    {
      "cell_type": "markdown",
      "metadata": {
        "id": "o6uIb6qYolow"
      },
      "source": [
        "## **Making Corresponding Embeddings**\n",
        "Firstly we initialize the embeddings model by gemini. Then we create corresponding embeddings and their retriever using Chromadb."
      ]
    },
    {
      "cell_type": "code",
      "execution_count": 8,
      "metadata": {
        "id": "FhSz_DjEODnq"
      },
      "outputs": [],
      "source": [
        "embeddings = GoogleGenerativeAIEmbeddings(model=\"models/embedding-001\",google_api_key=api_ke)\n",
        "\n",
        "vector_index = Chroma.from_texts(texts, embeddings).as_retriever(search_kwargs={\"k\":5})\n",
        "vector_pi = Chroma.from_texts(pi_texts, embeddings).as_retriever(search_kwargs={\"k\":5})\n",
        "vector_si = Chroma.from_texts(si_texts, embeddings).as_retriever(search_kwargs={\"k\":5})"
      ]
    },
    {
      "cell_type": "markdown",
      "metadata": {
        "id": "C4KaPPVtpBKo"
      },
      "source": [
        "## **Processing Queries**\n",
        "# **Setting a Template**\n",
        "We first give a set of instructions to our  llm model along with each query, which helps it in generating better answers.\n",
        "# **Selecting Appropriate Retriever**\n",
        "We create a function which identifies keywords in the queries given by the user. Then we assign corresponding retriever which has access to the corresponding info. If no keywords are identified we send the combined info of both docs.\n",
        "# **Emphasize Number Function**\n",
        "This function is made to put emphasis on numbers in user queries if any. This is due to the fact it is more likely to get a better result if we can find the exact number in the docs, instead of going the traditional route of semantic seach.\n",
        "# **Building A Q/A Retrieval Chain**\n",
        "In this function we first call the select retriever and the emphasize number function to process the queries first. Then we proceed to build the retrieval Q/A chain with the corresponding model, retriever and template."
      ]
    },
    {
      "cell_type": "code",
      "execution_count": 9,
      "metadata": {
        "id": "beRLdmmXKi8C"
      },
      "outputs": [],
      "source": [
        "template = \"\"\"Use the following context to answer the question at the end.Look into the full context carefully and Don't try to make up answers. Give answers in detail only if asked. You can reference interviewee names and tell their experiences as general answers.Always end your response with \"thanks for asking!\".\n",
        "{context}\n",
        "Question: {question}\n",
        "Helpful Answer:\"\"\"\n",
        "QA_CHAIN_PROMPT = PromptTemplate.from_template(template)\n",
        "pi_keywords = [\"placement\", \"placements\"]\n",
        "si_keywords = [\"summer internship\", \"si\", \"summer internships\"]\n",
        "def select_retriever(question):\n",
        "    # if (any(keyword in question.lower() for keyword in pi_keywords) and any(keyword in question.lower() for keyword in si_keywords)):\n",
        "    #     return vector_index\n",
        "    if any(keyword in question.lower() for keyword in pi_keywords):\n",
        "        return vector_pi\n",
        "    elif any(keyword in question.lower() for keyword in si_keywords):\n",
        "        return vector_si\n",
        "    else:\n",
        "        return vector_index\n",
        "def emphasize_numbers(question):\n",
        "    numbers = re.findall(r'\\d+(\\.\\d+)?', question)\n",
        "\n",
        "    emphasized_query = question\n",
        "    for number in numbers:\n",
        "        emphasized_query = emphasized_query.replace(number, f\"{number}^2\")\n",
        "\n",
        "    return emphasized_query\n",
        "\n",
        "\n",
        "def get_qa_chain(question):\n",
        "    emphasized_question = emphasize_numbers(question)\n",
        "    selected_retriever = select_retriever(emphasized_question)\n",
        "    qa_chain = RetrievalQA.from_chain_type(\n",
        "        model,\n",
        "        retriever=selected_retriever,\n",
        "        return_source_documents=True,\n",
        "        chain_type_kwargs={\"prompt\": QA_CHAIN_PROMPT}\n",
        "    )\n",
        "    return qa_chain"
      ]
    },
    {
      "cell_type": "code",
      "execution_count": null,
      "metadata": {
        "id": "16Q-zOoEKmhh"
      },
      "outputs": [],
      "source": [
        "# def remove_keywords(input_string, keywords):\n",
        "#     # Combine all keywords into a single regex pattern\n",
        "#     pattern = '|'.join(r'\\b{}\\b'.format(re.escape(keyword)) for keyword in keywords)\n",
        "\n",
        "#     # Use re.sub to replace all occurrences with an empty string\n",
        "#     return re.sub(pattern, '', input_string, flags=re.IGNORECASE)\n",
        "\n",
        "# def check_query(question):\n",
        "#     pi_keywords = [\"placement\", \"placements\"]\n",
        "#     si_keywords = [\"summer internship\", \"si\", \"summer internships\"]\n",
        "#     keywords = pi_keywords + si_keywords\n",
        "#     question_lower = question.lower()\n",
        "\n",
        "#     if ((any(word in question_lower for word in pi_keywords) and any(word in question_lower for word in si_keywords))):\n",
        "#         question = remove_keywords(question_lower, keywords)\n",
        "#         print(question)\n",
        "#         result = qa_chain({\"query\": question})\n",
        "#     elif any(word in question_lower for word in pi_keywords):\n",
        "#         question = remove_keywords(question_lower, pi_keywords)\n",
        "#         print(question)\n",
        "#         result = pi_chain({\"query\": question})\n",
        "#     elif any(word in question_lower for word in si_keywords):\n",
        "#         question = remove_keywords(question_lower, si_keywords)\n",
        "#         print(question)\n",
        "#         result = si_chain({\"query\": question})\n",
        "#     else:\n",
        "#         print(question)\n",
        "#         result = qa_chain({\"query\": question})\n",
        "\n",
        "#     return result[\"result\"]"
      ]
    },
    {
      "cell_type": "markdown",
      "metadata": {
        "id": "wGNUgLV2ff8E"
      },
      "source": [
        "## **Bot Testing**\n",
        "This is just general testing of the bot you can look through this to get an idea of how well the bot works. I have hidden the output for the queries but you can press show hidden output to view the source docs retrieved by the bot."
      ]
    },
    {
      "cell_type": "code",
      "execution_count": null,
      "metadata": {
        "colab": {
          "base_uri": "https://localhost:8080/"
        },
        "collapsed": true,
        "id": "NIi2iJJbgZui",
        "outputId": "2d0e97af-6a50-489d-f860-9e0e27e2a173"
      },
      "outputs": [
        {
          "name": "stderr",
          "output_type": "stream",
          "text": [
            "/usr/local/lib/python3.10/dist-packages/langchain_google_genai/chat_models.py:352: UserWarning: Convert_system_message_to_human will be deprecated!\n",
            "  warnings.warn(\"Convert_system_message_to_human will be deprecated!\")\n"
          ]
        },
        {
          "data": {
            "text/plain": [
              "{'query': 'Elaborate on the selection process for Microsoft in summer internship in detail?',\n",
              " 'result': \"The selection process for Microsoft's summer internship program is quite rigorous and involves multiple rounds. Here's a breakdown based on the information provided:\\n\\n**Eligibility:**\\n\\n* **CG Cutoff:**  The minimum CGPA requirement is 7+ for software engineering internships. For hardware-related roles, the cutoff is 8+.\\n* **Branch:** Open to students from A7, A3, A8, and AA branches (single and dual degree).\\n\\n**Recruitment Process:**\\n\\n**Round 1: Online Assessment (Software Engineering)**\\n\\n* **Duration:** 1.5 hours.\\n* **Content:** Two questions based on basic concepts covered in CS F211 - Data Structures and Algorithms. The difficulty level is rated as easy to medium.\\n* **Key:**  Time management is crucial. Aim to finish as quickly as possible while ensuring accuracy.\\n\\n**Round 2: Technical Interview 1 (Software Engineering)**\\n\\n* **Duration:** Approximately one hour.\\n* **Content:**\\n    * **Introduction:**  Begins with an introduction and discussion about your projects and internship experiences.\\n    * **Technical Depth:**  In-depth questions about the tech stack and concepts used in your projects.\\n    * **Design Patterns:** Basic to moderate questions on design patterns covered in CS F213 - Object-Oriented Programming.\\n    * **Coding:**  A coding question related to concepts covered in CS F211 - Data Structures and Algorithms. You need to pass specific test cases.\\n\\n**Round 3: DSA Interview (Software Engineering)**\\n\\n* **Content:**\\n    * **Project Discussion:**  The interviewer will delve into your resume projects.\\n    * **DSA Segment:**  In-depth discussion on sorting algorithms, likely covering your approach to preparing for DSA interviews using LeetCode and the CS F211 course content.  Expect detailed discussions on quick sort and merge sort.\\n\\n**Round 4: CS Fundamentals Interview (Software Engineering)**\\n\\n* **Content:**  This round focuses on your understanding of fundamental computer science concepts.\\n\\n**Round 1: Online Assessment (Hardware Engineering)**\\n\\n* **Duration:**  Not specified.\\n* **Content:**  Three challenging coding questions. Examples include:\\n    * Implementing a spiral output given a starting corner.\\n    * A question based on graphs, described as particularly tricky.\\n    * A problem involving dynamic programming, binary search, and bitmasking.\\n\\n**Round 2: Online Assessment 2 (Hardware Engineering)**\\n\\n* **Content:**  Shortlisting round, likely based on the previous round and your resume.  The questions are relatively easy and short in duration.  They focus on implementation-based problems, comparable to medium-level LeetCode questions.  The questions are more design-based than purely algorithmic.\\n\\n**Round 2: Technical Interview (Hardware Engineering)**\\n\\n* **Content:**  The round mainly covers questions based on ECE/EEE/INSTR F215 - Digital Design. It also includes basic questions related to the third-year course CDC - EEE/INSTR F313 - Analog Digital VLSI Design.  While not a specific course requirement, it's helpful to understand basic concepts like Static Time Analysis.  The interview will focus on topics covered in the courses.\\n\\n**Round 3: Personal Interview (Hardware Engineering)**\\n\\n* **Duration:**  Approximately 40 minutes.\\n* **Content:**  This round is like a personality test.  You'll be presented with situations and asked questions to gauge your professional ethics and how you would respond to different situations.  The interview also assesses your ability to handle challenging situations.\\n\\n**General Advice:**\\n\\n* **Confidence:**  Be confident in your answers, even if you get stuck.\\n* **Communication:**  Keep interacting with the interviewer and share your thought process.\\n* **Preparation:**  Thoroughly prepare for OOP concepts, especially for software engineering roles.\\n* **Fundamentals:**  Ensure you have a strong understanding of fundamental concepts, especially for hardware engineering roles.\\n* **Resources:**  Use online resources like GeeksforGeeks for general preparation and hdlbits to get comfortable with Verilog for hardware engineering.\\n\\nThanks for asking! \\n\",\n",
              " 'source_documents': [Document(page_content='CG Cutoff - 8 + \\n recruitment process - \\u2028\\n Round 1 - Resume Shortlisting \\n\\n Round 2 - Technical Interview \\n\\n round mainly cover question base ECE / EEE / INSTR F215 - \\n Digital Design . also basic question pertain third- \\n year CDC - EEE / INSTR F313 - Analog Digital VLSI Design . though \\n not course would take time interview , sure \\n learn basic concept like Static Time Analysis . specifically ask \\n question pertain topic interview . \\n\\n also ask question base fundamental \\n programming like Fibonacci series , well Computer \\n Architecture . first ask basic part computer \\n memory organize . also ask question base \\n pipeline , delay occur hazard .  \\n Microsoft Corporation \\n 37 \\n Round 3 - Personal Interview \\n\\n almost like 40 minute - long personality test . give \\n situation ask different question gauge professional \\n ethic , well would respond react different situation . \\n\\n also try test situation - handle ability round \\n Personal Experiences \\n source preparation - \\n\\n well verse dd also find online resource \\n make familiar ADVD , would do . \\n use hdlbits get comfortable Verilog . basic programming \\n concept , could use general source preparation \\n geeksforgeek . \\n\\n word Advice -'),\n",
              "  Document(page_content='CG Cutoff - 8 + \\n recruitment process - \\u2028\\n Round 1 - Resume Shortlisting \\n\\n Round 2 - Technical Interview \\n\\n round mainly cover question base ECE / EEE / INSTR F215 - \\n Digital Design . also basic question pertain third- \\n year CDC - EEE / INSTR F313 - Analog Digital VLSI Design . though \\n not course would take time interview , sure \\n learn basic concept like Static Time Analysis . specifically ask \\n question pertain topic interview . \\n\\n also ask question base fundamental \\n programming like Fibonacci series , well Computer \\n Architecture . first ask basic part computer \\n memory organize . also ask question base \\n pipeline , delay occur hazard .  \\n Microsoft Corporation \\n 37 \\n Round 3 - Personal Interview \\n\\n almost like 40 minute - long personality test . give \\n situation ask different question gauge professional \\n ethic , well would respond react different situation . \\n\\n also try test situation - handle ability round \\n Personal Experiences \\n source preparation - \\n\\n well verse dd also find online resource \\n make familiar ADVD , would do . \\n use hdlbits get comfortable Verilog . basic programming \\n concept , could use general source preparation \\n geeksforgeek . \\n\\n word Advice -'),\n",
              "  Document(page_content='word Advice - \\n\\n not mention skill / project resume \\n confident answer . make sure prepare OOP thoroughly . even \\n get stick somewhere interview , keep interact \\n interviewer tell every thought come mind . \\n interviewer help often will tell be go \\n right direction . thought process matter know actual \\n concept . \\n Round 2 - Technical Interview \\n\\n round last around hour . begin introduction , \\n follow - depth discussion around project prior internship \\n experience . first , ask basic question around tech stack \\n concept use project . proceed ask - depth \\n question around stack concept . \\n follow , ask basic moderate question around design \\n pattern basic concept cover CS F213 - object - orient \\n Programming . conclude , ask code question pertain \\n concept cover CS F211 - Data Structures Algorithms \\n pass certain test case . \\n Microsoft Corporation \\n 80 \\n introduction \\n Interviewee - Vaibhav Singla ( 2021a7ps2227p ) \\n Job Role - Software Engineer Intern \\n Number offer make - 4 \\n Selection Process \\n branch open - A7 , A3 , A8 , AA - single dual degree \\n student eligible appear process \\n\\n CG Cutoff - 7 + \\n Recruitment process - \\u2028\\n Round 1 - Online Assessment \\n\\n last 1.5 hour . two question base basic \\n concept cover CS F211 - Data Structures Algorithms would \\n rate easy medium . time give ample key finish \\n fast possible submission time good . \\r\\n\\n Round 2 - technical Interview 1'),\n",
              "  Document(page_content='word Advice - \\n\\n not mention skill / project resume \\n confident answer . make sure prepare OOP thoroughly . even \\n get stick somewhere interview , keep interact \\n interviewer tell every thought come mind . \\n interviewer help often will tell be go \\n right direction . thought process matter know actual \\n concept . \\n Round 2 - Technical Interview \\n\\n round last around hour . begin introduction , \\n follow - depth discussion around project prior internship \\n experience . first , ask basic question around tech stack \\n concept use project . proceed ask - depth \\n question around stack concept . \\n follow , ask basic moderate question around design \\n pattern basic concept cover CS F213 - object - orient \\n Programming . conclude , ask code question pertain \\n concept cover CS F211 - Data Structures Algorithms \\n pass certain test case . \\n Microsoft Corporation \\n 80 \\n introduction \\n Interviewee - Vaibhav Singla ( 2021a7ps2227p ) \\n Job Role - Software Engineer Intern \\n Number offer make - 4 \\n Selection Process \\n branch open - A7 , A3 , A8 , AA - single dual degree \\n student eligible appear process \\n\\n CG Cutoff - 7 + \\n Recruitment process - \\u2028\\n Round 1 - Online Assessment \\n\\n last 1.5 hour . two question base basic \\n concept cover CS F211 - Data Structures Algorithms would \\n rate easy medium . time give ample key finish \\n fast possible submission time good . \\r\\n\\n Round 2 - technical Interview 1'),\n",
              "  Document(page_content='CG Cutoff - 7 + \\n Recruitment process - \\u2028\\n Round 1 - Online Assessment 1 \\n\\n test purely code - base . three question quite difficult . \\n were:\\x91 \\n \\x8b » implementation spiral output give start corne\\x98 \\n\\x85 » one base graph - particularly trick\\x95 \\n ¨ » Dynamic Programming , binary search bitmaske \\n\\n Round 2 - Online Assessment 2 \\n\\n shortlisting round likely base previous \\n round also basis resume . round relatively easy \\n short duration . question ask implementation- \\n base would likely correspond medium level Leetcode . \\n question exactly algorithmic , almost design- \\n base . \\n devrev \\n 67 \\n Personal Experiences \\n source preparation - \\n\\n primarily revise course material Codeforces \\n Leetcode problem - solve \\n\\n word Advice - \\n\\n sure thorough fundamental appear \\n process especially . \\n Relevant Courses Certification \\n |s CS F211 - Data Structures Algorithmd \\n _ CS F213 - Object - Oriented Programminz \\n \\\\ CS F222 - Discrete Structures Computer Science \\n Round 3 - DSA Interview \\n\\n interviewer knowledgeable question ask \\n - depth . start ask resume project . follow \\n , get DSA segment . start discussion sort \\n algorithm , great detail . likely cover student \\n approach SI preparation Leetcode , cover CS F211 \\n - Data Structures Algorithms course . even , in- \\n depth discussion quick sort merge sort . \\n\\n round 4 - CS Fundamental Interviews')]}"
            ]
          },
          "execution_count": 26,
          "metadata": {},
          "output_type": "execute_result"
        }
      ],
      "source": [
        "question = \"Elaborate on the selection process for Microsoft in summer internship in detail?\"\n",
        "qa_chain = get_qa_chain(question)\n",
        "result = qa_chain({\"query\": question})\n",
        "result"
      ]
    },
    {
      "cell_type": "code",
      "execution_count": null,
      "metadata": {
        "colab": {
          "base_uri": "https://localhost:8080/",
          "height": 1000
        },
        "id": "Gb-hGzDbgi-v",
        "outputId": "a1754d5e-5f93-4f1f-84e6-77f64acab853"
      },
      "outputs": [
        {
          "data": {
            "text/markdown": [
              "The selection process for Microsoft's summer internship program is quite rigorous and involves multiple rounds. Here's a breakdown based on the information provided:\n",
              "\n",
              "**Eligibility:**\n",
              "\n",
              "* **CG Cutoff:**  The minimum CGPA requirement is 7+ for software engineering internships. For hardware-related roles, the cutoff is 8+.\n",
              "* **Branch:** Open to students from A7, A3, A8, and AA branches (single and dual degree).\n",
              "\n",
              "**Recruitment Process:**\n",
              "\n",
              "**Round 1: Online Assessment (Software Engineering)**\n",
              "\n",
              "* **Duration:** 1.5 hours.\n",
              "* **Content:** Two questions based on basic concepts covered in CS F211 - Data Structures and Algorithms. The difficulty level is rated as easy to medium.\n",
              "* **Key:**  Time management is crucial. Aim to finish as quickly as possible while ensuring accuracy.\n",
              "\n",
              "**Round 2: Technical Interview 1 (Software Engineering)**\n",
              "\n",
              "* **Duration:** Approximately one hour.\n",
              "* **Content:**\n",
              "    * **Introduction:**  Begins with an introduction and discussion about your projects and internship experiences.\n",
              "    * **Technical Depth:**  In-depth questions about the tech stack and concepts used in your projects.\n",
              "    * **Design Patterns:** Basic to moderate questions on design patterns covered in CS F213 - Object-Oriented Programming.\n",
              "    * **Coding:**  A coding question related to concepts covered in CS F211 - Data Structures and Algorithms. You need to pass specific test cases.\n",
              "\n",
              "**Round 3: DSA Interview (Software Engineering)**\n",
              "\n",
              "* **Content:**\n",
              "    * **Project Discussion:**  The interviewer will delve into your resume projects.\n",
              "    * **DSA Segment:**  In-depth discussion on sorting algorithms, likely covering your approach to preparing for DSA interviews using LeetCode and the CS F211 course content.  Expect detailed discussions on quick sort and merge sort.\n",
              "\n",
              "**Round 4: CS Fundamentals Interview (Software Engineering)**\n",
              "\n",
              "* **Content:**  This round focuses on your understanding of fundamental computer science concepts.\n",
              "\n",
              "**Round 1: Online Assessment (Hardware Engineering)**\n",
              "\n",
              "* **Duration:**  Not specified.\n",
              "* **Content:**  Three challenging coding questions. Examples include:\n",
              "    * Implementing a spiral output given a starting corner.\n",
              "    * A question based on graphs, described as particularly tricky.\n",
              "    * A problem involving dynamic programming, binary search, and bitmasking.\n",
              "\n",
              "**Round 2: Online Assessment 2 (Hardware Engineering)**\n",
              "\n",
              "* **Content:**  Shortlisting round, likely based on the previous round and your resume.  The questions are relatively easy and short in duration.  They focus on implementation-based problems, comparable to medium-level LeetCode questions.  The questions are more design-based than purely algorithmic.\n",
              "\n",
              "**Round 2: Technical Interview (Hardware Engineering)**\n",
              "\n",
              "* **Content:**  The round mainly covers questions based on ECE/EEE/INSTR F215 - Digital Design. It also includes basic questions related to the third-year course CDC - EEE/INSTR F313 - Analog Digital VLSI Design.  While not a specific course requirement, it's helpful to understand basic concepts like Static Time Analysis.  The interview will focus on topics covered in the courses.\n",
              "\n",
              "**Round 3: Personal Interview (Hardware Engineering)**\n",
              "\n",
              "* **Duration:**  Approximately 40 minutes.\n",
              "* **Content:**  This round is like a personality test.  You'll be presented with situations and asked questions to gauge your professional ethics and how you would respond to different situations.  The interview also assesses your ability to handle challenging situations.\n",
              "\n",
              "**General Advice:**\n",
              "\n",
              "* **Confidence:**  Be confident in your answers, even if you get stuck.\n",
              "* **Communication:**  Keep interacting with the interviewer and share your thought process.\n",
              "* **Preparation:**  Thoroughly prepare for OOP concepts, especially for software engineering roles.\n",
              "* **Fundamentals:**  Ensure you have a strong understanding of fundamental concepts, especially for hardware engineering roles.\n",
              "* **Resources:**  Use online resources like GeeksforGeeks for general preparation and hdlbits to get comfortable with Verilog for hardware engineering.\n",
              "\n",
              "Thanks for asking! \n"
            ],
            "text/plain": [
              "<IPython.core.display.Markdown object>"
            ]
          },
          "execution_count": 27,
          "metadata": {},
          "output_type": "execute_result"
        }
      ],
      "source": [
        "Markdown(result[\"result\"])"
      ]
    },
    {
      "cell_type": "code",
      "execution_count": null,
      "metadata": {
        "colab": {
          "base_uri": "https://localhost:8080/"
        },
        "collapsed": true,
        "id": "6eJixI-Ni8HQ",
        "outputId": "b98786cf-0ed8-44c0-9986-d8a20e6876ee"
      },
      "outputs": [
        {
          "name": "stderr",
          "output_type": "stream",
          "text": [
            "/usr/local/lib/python3.10/dist-packages/langchain_google_genai/chat_models.py:352: UserWarning: Convert_system_message_to_human will be deprecated!\n",
            "  warnings.warn(\"Convert_system_message_to_human will be deprecated!\")\n"
          ]
        },
        {
          "data": {
            "text/plain": [
              "{'query': 'How can I prepare for personality interview in Nvidia?',\n",
              " 'result': \"Based on the provided information, the personality interview at Nvidia focuses on assessing your communication skills, problem-solving abilities, and cultural fit. Here's how you can prepare:\\n\\n* **Practice answering common HR questions:**  The interviewee, Satvik Jain, suggests practicing answers to HR questions in advance. This includes questions about your interest in the company, your career goals, and your strengths and weaknesses.\\n* **Highlight your relevant skills:**  Nvidia's technical interview focuses on your understanding of computer architecture, digital design, and microprocessors. Be prepared to discuss your experience with these concepts and how they relate to the role you're applying for.\\n* **Demonstrate your problem-solving skills:**  The technical interview may involve coding challenges or questions that require you to think critically and apply your knowledge. Practice solving problems using different approaches and be prepared to explain your thought process.\\n* **Show your enthusiasm and passion:**  Nvidia values candidates who are passionate about technology and eager to learn. Express your interest in the company and the specific role you're applying for.\\n* **Research the company and the role:**  Before the interview, take the time to learn about Nvidia's culture, values, and current projects. This will help you tailor your responses and demonstrate your genuine interest.\\n\\nRemember, the personality interview is an opportunity to showcase your personality and connect with the interviewer on a personal level. Be confident, enthusiastic, and authentic.\\n\\nThanks for asking! \\n\",\n",
              " 'source_documents': [Document(page_content='CG Cutoff - 8 + \\n recruitment process - \\u2028\\n Round 1 - Online assessment \\n\\n round highly competitive , question pertain \\n second - year electrical cdc . make round particularly hard . \\n big reason say competitive , however , 4 \\n people shortlist interview round . \\n\\n Round 2 - Technical Interview \\n\\n primarily ask conceptual question course like ECE / EEE/ \\n INSTR F212 - Digital Design , well ECE / EEE / instr F241 - \\n Microprocessors Interfacing . \\n\\n also ask basic question Computer Architecture . \\n third year CDC CS student ( CS F342 ) DEl electrical \\n student , brush basic concept cover course would \\n useful . \\n Nvidia \\n 39 \\n Personal Experiences \\n source preparation - \\n\\n revise note second year . sufficient , \\n especially skim quickly revise important concept . \\n\\n word Advice - \\n\\n stay calm confident especially technical test , fair \\n question slightly tricky . sure prepare thoroughly round , \\n lot candidate primary mean filtration .'),\n",
              "  Document(page_content='CG Cutoff - 8 + \\n recruitment process - \\u2028\\n Round 1 - Online assessment \\n\\n round highly competitive , question pertain \\n second - year electrical cdc . make round particularly hard . \\n big reason say competitive , however , 4 \\n people shortlist interview round . \\n\\n Round 2 - Technical Interview \\n\\n primarily ask conceptual question course like ECE / EEE/ \\n INSTR F212 - Digital Design , well ECE / EEE / instr F241 - \\n Microprocessors Interfacing . \\n\\n also ask basic question Computer Architecture . \\n third year CDC CS student ( CS F342 ) DEl electrical \\n student , brush basic concept cover course would \\n useful . \\n Nvidia \\n 39 \\n Personal Experiences \\n source preparation - \\n\\n revise note second year . sufficient , \\n especially skim quickly revise important concept . \\n\\n word Advice - \\n\\n stay calm confident especially technical test , fair \\n question slightly tricky . sure prepare thoroughly round , \\n lot candidate primary mean filtration .'),\n",
              "  Document(page_content='use GeeksforGeeks revise C++ Leetcode problem - solve \\n DSA . \\n\\n word Advice - \\n\\n Practice answer hr question advance , interview \\n 15 - 20 min , not efficient technical segment take \\n much time hr segment . \\n additionally , start competitive code least 2 - 2 early , \\n need time able land dream si offer . \\n moreover , also correlate concept teach \\n course , convenient . \\n Round 2 - technical HR Interview \\n\\n round start introduction basic hr question around \\n company interest . begin technical segment , \\n start ask least 2 programming language \\n comfortable . state comfort C++ Python , \\n start ask basic question around . , ask \\n mysql question , like , give complicated query ask \\n compiler would compile first . \\n question ask quite conceptual nature . \\n Nvidia \\n 84 \\n introduction \\n Interviewee - Satvik Jain ( 2020B3A70791P ) \\n Job Role - System Software Intern \\n Number offer make - 3 \\n Selection Process \\n branch open - A7 , A3 , A8 , AA - single dual degree student \\n eligible role \\n\\n CG Cutoff - None \\n Recruitment process - \\u2028\\n Round 1 - Online assessment \\n\\n round two segmentsµ \\n äÉ Logical Reasonin » \\n ³É Coding - round two question , would likely fall \\n medium category Leetcode . tell we prior start \\n round c would allow round assessment . \\n one question debug give piece code \\n\\n Round 2 - technical interview'),\n",
              "  Document(page_content='use GeeksforGeeks revise C++ Leetcode problem - solve \\n DSA . \\n\\n word Advice - \\n\\n Practice answer hr question advance , interview \\n 15 - 20 min , not efficient technical segment take \\n much time hr segment . \\n additionally , start competitive code least 2 - 2 early , \\n need time able land dream si offer . \\n moreover , also correlate concept teach \\n course , convenient . \\n Round 2 - technical HR Interview \\n\\n round start introduction basic hr question around \\n company interest . begin technical segment , \\n start ask least 2 programming language \\n comfortable . state comfort C++ Python , \\n start ask basic question around . , ask \\n mysql question , like , give complicated query ask \\n compiler would compile first . \\n question ask quite conceptual nature . \\n Nvidia \\n 84 \\n introduction \\n Interviewee - Satvik Jain ( 2020B3A70791P ) \\n Job Role - System Software Intern \\n Number offer make - 3 \\n Selection Process \\n branch open - A7 , A3 , A8 , AA - single dual degree student \\n eligible role \\n\\n CG Cutoff - None \\n Recruitment process - \\u2028\\n Round 1 - Online assessment \\n\\n round two segmentsµ \\n äÉ Logical Reasonin » \\n ³É Coding - round two question , would likely fall \\n medium category Leetcode . tell we prior start \\n round c would allow round assessment . \\n one question debug give piece code \\n\\n Round 2 - technical interview'),\n",
              "  Document(page_content='CG Cutoff - None \\n Recruitment process - \\u2028\\n Round 1 - Online assessment \\n\\n round two segmentsµ \\n äÉ Logical Reasonin » \\n ³É Coding - round two question , would likely fall \\n medium category Leetcode . tell we prior start \\n round c would allow round assessment . \\n one question debug give piece code \\n\\n Round 2 - technical interview \\n\\n round last around 50 min . particular language mention \\n language allow use . start ask \\n basic DSA question . included:-\\x8c \\n äÉ would remove repeat element string¶ \\n ³É give array integer , find maximum sum pair number \\n array . \\n conclude ask basic question CS F215 - \\n Digital Design CS F241 - Microprocessors Interfacing . \\n Nvidia \\n 85 \\n Relevant Courses Certification \\n G > CS F211 - Data Structures Algorithm/ \\n \\' > CS F213 - Object - orient programminc \\n\\x1c > CS / ECE / EEE / INSTR F215 - Digital Desig , \\n F > CS / ECE / EEE / instr F241 - Microprocessors Interfacing \\n Personal Experiences \\n source preparation -\\x91 \\n k DSA Revision - Striver ’s SDE Sheev \\n k DSA Problem - solving - Leetcode , InterviewBiv \\n k Interview preparation - GeeksforGeeks \\n\\n word Advice - \\n\\n lot company might either give direction around \\n expect and/or prepare interview , give direction , \\n process might reflect . similar experience \\n SI hiring process . \\n\\n thus , could stress importance retain strong \\n foundation basic , catch tricky spot \\n event question slightly \" average interview framework \" \\n ask . \\n Round 3 - hr Interview')]}"
            ]
          },
          "execution_count": 30,
          "metadata": {},
          "output_type": "execute_result"
        }
      ],
      "source": [
        "question = \"How can I prepare for personality interview in Nvidia?\"\n",
        "qa_chain = get_qa_chain(question)\n",
        "result = qa_chain({\"query\": question})\n",
        "result"
      ]
    },
    {
      "cell_type": "code",
      "execution_count": null,
      "metadata": {
        "colab": {
          "base_uri": "https://localhost:8080/",
          "height": 307
        },
        "id": "FWvBDLA5jZwR",
        "outputId": "be5e07ab-3f6c-43a8-de5a-1f54592e8f47"
      },
      "outputs": [
        {
          "data": {
            "text/markdown": [
              "Based on the provided information, the personality interview at Nvidia focuses on assessing your communication skills, problem-solving abilities, and cultural fit. Here's how you can prepare:\n",
              "\n",
              "* **Practice answering common HR questions:**  The interviewee, Satvik Jain, suggests practicing answers to HR questions in advance. This includes questions about your interest in the company, your career goals, and your strengths and weaknesses.\n",
              "* **Highlight your relevant skills:**  Nvidia's technical interview focuses on your understanding of computer architecture, digital design, and microprocessors. Be prepared to discuss your experience with these concepts and how they relate to the role you're applying for.\n",
              "* **Demonstrate your problem-solving skills:**  The technical interview may involve coding challenges or questions that require you to think critically and apply your knowledge. Practice solving problems using different approaches and be prepared to explain your thought process.\n",
              "* **Show your enthusiasm and passion:**  Nvidia values candidates who are passionate about technology and eager to learn. Express your interest in the company and the specific role you're applying for.\n",
              "* **Research the company and the role:**  Before the interview, take the time to learn about Nvidia's culture, values, and current projects. This will help you tailor your responses and demonstrate your genuine interest.\n",
              "\n",
              "Remember, the personality interview is an opportunity to showcase your personality and connect with the interviewer on a personal level. Be confident, enthusiastic, and authentic.\n",
              "\n",
              "Thanks for asking! \n"
            ],
            "text/plain": [
              "<IPython.core.display.Markdown object>"
            ]
          },
          "execution_count": 31,
          "metadata": {},
          "output_type": "execute_result"
        }
      ],
      "source": [
        "Markdown(result[\"result\"])"
      ]
    },
    {
      "cell_type": "code",
      "execution_count": null,
      "metadata": {
        "colab": {
          "base_uri": "https://localhost:8080/"
        },
        "collapsed": true,
        "id": "zX7raiWDKoHg",
        "outputId": "02e1b74c-80af-4ed7-ee93-49ea765a1c65"
      },
      "outputs": [
        {
          "name": "stderr",
          "output_type": "stream",
          "text": [
            "/usr/local/lib/python3.10/dist-packages/langchain_google_genai/chat_models.py:352: UserWarning: Convert_system_message_to_human will be deprecated!\n",
            "  warnings.warn(\"Convert_system_message_to_human will be deprecated!\")\n"
          ]
        },
        {
          "data": {
            "text/plain": [
              "{'query': 'which company had CG cutoff as more than 8 in placements',\n",
              " 'result': 'The company with a CG cutoff of more than 8 in placements is **Millennium Management**. \\n\\nthanks for asking! \\n',\n",
              " 'source_documents': [Document(page_content='CG Cutoff - 8 + \\n recruitment process - \\u2028\\n Round 1 - Online assessment \\n\\n round mcq base Math Probability . besides , \\n code question . \\n\\n Round 2 - Puzzle - Based Interview \\n\\n ask various mathematical puzzle brain teaser 25 minute . \\n find even practice book video \\n mention next page . \\n\\n Round 3 - Technical interview \\n\\n round start fairly easy puzzle . however , move \\n technical segment fairly quickly , puzzle standard . \\n part , ask code run three question . likely \\n correspond medium hard difficulty level Leetcode . \\n Millennium Management \\n 117 \\n Round 4 - hr Interview \\n\\n round call hr round , start \\n moderately hard mathematical puzzle . solve , proceed \\n hr segment . , ask general question around resume , \\n well competitive code background . besides , ask \\n hobby long - term plan , well expectation \\n role intent behind join . \\n Personal Experiences \\n Project Internship experience - « \\n \\x8a\\x9c Projects - three project CS itsel\\x7f \\n l\\x9c internship - PS - Amazon , Machine Learning team , \\n prove good learning experience also good \\n talk poino \\n \\x8f\\x9c Academics - CGPA 10/10 , make Institute Rank 1 . \\n\\n source preparation - \\n\\n pursue competitive coding two year \\n participate contest Leetcode , Codeforces , CodeChef . \\n quant puzzle , stick Brainstellar . \\n\\n word Advice -'),\n",
              "  Document(page_content='CG Cutoff - 8 + \\n recruitment process - \\u2028\\n Round 1 - Online assessment \\n\\n round mcq base Math Probability . besides , \\n code question . \\n\\n Round 2 - Puzzle - Based Interview \\n\\n ask various mathematical puzzle brain teaser 25 minute . \\n find even practice book video \\n mention next page . \\n\\n Round 3 - Technical interview \\n\\n round start fairly easy puzzle . however , move \\n technical segment fairly quickly , puzzle standard . \\n part , ask code run three question . likely \\n correspond medium hard difficulty level Leetcode . \\n Millennium Management \\n 117 \\n Round 4 - hr Interview \\n\\n round call hr round , start \\n moderately hard mathematical puzzle . solve , proceed \\n hr segment . , ask general question around resume , \\n well competitive code background . besides , ask \\n hobby long - term plan , well expectation \\n role intent behind join . \\n Personal Experiences \\n Project Internship experience - « \\n \\x8a\\x9c Projects - three project CS itsel\\x7f \\n l\\x9c internship - PS - Amazon , Machine Learning team , \\n prove good learning experience also good \\n talk poino \\n \\x8f\\x9c Academics - CGPA 10/10 , make Institute Rank 1 . \\n\\n source preparation - \\n\\n pursue competitive coding two year \\n participate contest Leetcode , Codeforces , CodeChef . \\n quant puzzle , stick Brainstellar . \\n\\n word Advice -'),\n",
              "  Document(page_content='CG Cutoff - 7.5 + \\n Recruitment process - \\u2028\\n Round 1 - Online Assessment \\n\\n test ~15 question . question primarily base logic , \\n probability , statistic , SQL . question could solve \\n decent knowledge MATH F112 : Probability Statistics , 1 \\n high - weightage SQL - base question ask . \\n\\n Round 2 - Technical Interview \\n\\n round mainly focus SQL . three parts:~ \\n Ã · previous work / project ’ discussion - round , ask detail \\n question base CS F212 - Database Systems projec¢ \\n \\x82 · business case study - ask solve case study use data- \\n drive approach . concept teach ECON F241 - Econometric \\n Methods come handy · \\n § · code round - round , question datum give ask . \\n code use SQL HackerRank , could not run code . \\n Atlassian \\n 28 \\n Round 3 - Behavioural Interview'),\n",
              "  Document(page_content='CG Cutoff - 7.5 + \\n Recruitment process - \\u2028\\n Round 1 - Online Assessment \\n\\n test ~15 question . question primarily base logic , \\n probability , statistic , SQL . question could solve \\n decent knowledge MATH F112 : Probability Statistics , 1 \\n high - weightage SQL - base question ask . \\n\\n Round 2 - Technical Interview \\n\\n round mainly focus SQL . three parts:~ \\n Ã · previous work / project ’ discussion - round , ask detail \\n question base CS F212 - Database Systems projec¢ \\n \\x82 · business case study - ask solve case study use data- \\n drive approach . concept teach ECON F241 - Econometric \\n Methods come handy · \\n § · code round - round , question datum give ask . \\n code use SQL HackerRank , could not run code . \\n Atlassian \\n 28 \\n Round 3 - Behavioural Interview'),\n",
              "  Document(page_content='CG Cutoff - 7.5 + \\n Recruitment process - \\u2028\\n Round 1 - Online assessment \\n\\n round purely code round four question . \\n question could solve thorough understanding concept teach \\n CS F211 - Data Structures Algorithms . question rely \\n Dynamic Programming and/or Graphs , standard oas . \\n\\n Round 2 - technical Interview 1 \\n\\n round singularly base CS F211 - Data Structures \\n Algorithms , ask lot - depth question Graphs . \\n question definitely require strong background DSA \\n competitive coding . nearly every question ask , interestingly , \\n graph - base . \\n\\n Round 3 - Technical Interview 2 \\n\\n round singularly base CS F212 - Database Systems . \\n question ask quite conceptual could easily \\n solve follow thorough revision course material . \\n Rubrik \\n 89 \\n Relevant Courses Certification \\n 6 . CS F211 - Data Structures Algorithm ! \\n\\x1c . CS F212 - Database Systems \\n Personal Experiences \\n source preparation -\\x80 \\n g DSA - Leetcodi \\n g DBS - course sufficienm \\n g Problem - solving - Codeforce ! \\n g Interview Preparation - InterviewBit , GeeksforGeeks \\n\\n word Advice -')]}"
            ]
          },
          "execution_count": 21,
          "metadata": {},
          "output_type": "execute_result"
        }
      ],
      "source": [
        "question = \"which company had CG cutoff as more than 8 in placements\"\n",
        "qa_chain = get_qa_chain(question)\n",
        "result = qa_chain({\"query\": question})\n",
        "result"
      ]
    },
    {
      "cell_type": "code",
      "execution_count": null,
      "metadata": {
        "colab": {
          "base_uri": "https://localhost:8080/",
          "height": 70
        },
        "id": "I79jsSn4hJas",
        "outputId": "268a0b3a-4d6f-46cd-833f-5b768cbda1df"
      },
      "outputs": [
        {
          "data": {
            "text/markdown": [
              "The company with a CG cutoff of more than 8 in placements is **Millennium Management**. \n",
              "\n",
              "thanks for asking! \n"
            ],
            "text/plain": [
              "<IPython.core.display.Markdown object>"
            ]
          },
          "execution_count": 22,
          "metadata": {},
          "output_type": "execute_result"
        }
      ],
      "source": [
        "Markdown(result[\"result\"])"
      ]
    },
    {
      "cell_type": "markdown",
      "metadata": {
        "id": "XdL9v0LNjc8d"
      },
      "source": [
        "### **A Tricky Question for companies which hire in multiple domains**\n",
        "Ola cabs comes for hiring in chemical and tech placements both. So We can ask the model questions respectively by mentioning which field we are taking into consideration"
      ]
    },
    {
      "cell_type": "code",
      "execution_count": null,
      "metadata": {
        "colab": {
          "base_uri": "https://localhost:8080/"
        },
        "collapsed": true,
        "id": "mp84c8TB6CUt",
        "outputId": "708631c1-5837-4488-cb5a-9d0f6443c632"
      },
      "outputs": [
        {
          "name": "stderr",
          "output_type": "stream",
          "text": [
            "/usr/local/lib/python3.10/dist-packages/langchain_google_genai/chat_models.py:352: UserWarning: Convert_system_message_to_human will be deprecated!\n",
            "  warnings.warn(\"Convert_system_message_to_human will be deprecated!\")\n"
          ]
        },
        {
          "data": {
            "text/plain": [
              "{'query': 'What are the relevant courses for ola cabs in chemical placements?',\n",
              " 'result': 'The relevant courses for Ola Cabs in chemical placements are:\\n\\n* **CHE f213 - Chemical Engineering Thermodynamics**\\n* **CHE F212 - Fluid Mechanics**\\n* **CHE F241 - Heat Transfer**\\n\\nThese courses cover the core chemical engineering concepts that are essential for a job in the chemical industry. \\n\\nThanks for asking! \\n',\n",
              " 'source_documents': [Document(page_content='comprise 30 question answer 30 minute . question \\n lengthy gate - level , cover knowledge thermodynamic , \\n fluid mechanic , heat , etc . one well prepared online \\n assessment computer - adaptive test , mean \\n difficulty level question would adjust per one ’s performance . \\n moreover , question design company , \\n point search internet . \\n Round 2 - Technical Interview \\n\\n test , 5 student shortlist whole Chemical \\n department two round interview conduct . \\n discussion base resume . question cover ML project , \\n Chemical project , core Chemical concept . \\n Ola Cabs \\n 26 \\n Personal Experience \\n source preparation -0 \\n $ ML project give significant advantage \\n candidate recruitment process \\n $ GATE preparation would suffice online test . \\n word advice -0 \\n $ build - rounder profile focus Academics , Personality , \\n Extra - curricular \\n $ try maximize cgpa much possible \\n $ Projects Internships rewarding project good reflection \\n resume . however , try keep internship \\n resume relevant role apply . \\n \\x88 CHE f213 - Chemical Engineering Thermodynamic } \\n \\x7f CHE F212 - Fluid Mechanic } \\n \\x82 CHE F241 - Heat Transfer \\n Relevant Courses Certifications \\n Round 3 - hr Round'),\n",
              "  Document(page_content='comprise 30 question answer 30 minute . question \\n lengthy gate - level , cover knowledge thermodynamic , \\n fluid mechanic , heat , etc . one well prepared online \\n assessment computer - adaptive test , mean \\n difficulty level question would adjust per one ’s performance . \\n moreover , question design company , \\n point search internet . \\n Round 2 - Technical Interview \\n\\n test , 5 student shortlist whole Chemical \\n department two round interview conduct . \\n discussion base resume . question cover ML project , \\n Chemical project , core Chemical concept . \\n Ola Cabs \\n 26 \\n Personal Experience \\n source preparation -0 \\n $ ML project give significant advantage \\n candidate recruitment process \\n $ GATE preparation would suffice online test . \\n word advice -0 \\n $ build - rounder profile focus Academics , Personality , \\n Extra - curricular \\n $ try maximize cgpa much possible \\n $ Projects Internships rewarding project good reflection \\n resume . however , try keep internship \\n resume relevant role apply . \\n \\x88 CHE f213 - Chemical Engineering Thermodynamic } \\n \\x7f CHE F212 - Fluid Mechanic } \\n \\x82 CHE F241 - Heat Transfer \\n Relevant Courses Certifications \\n Round 3 - hr Round'),\n",
              "  Document(page_content='precede Resume Shortlist , round comprise logical aptitude \\n behavioral question , judge candidate ’s mental reasoning skill . \\n\\n Round 2 - Technical Interview \\n\\n since job profile require deal patent different \\n company meet requirement , mixture technology \\n consulting . therefore , round , ask core electronic \\n concept previous project . \\n\\n Round 3 - Technical Interview \\n\\n round consist case study base patent . test \\n knowledge industry well reasoning skill . \\n unitedlex \\n 23 \\n Round 4 - hr Interview \\n\\n Basic HR question ask , test compatibility , teamwork , etc . \\n question also ask SDLC - Software Development Life Cycle . \\n Personal Experience \\n Prior internship experience - \\n\\n ps-1 Purchasing & Parts , remotely work Software \\n Developer . also Summer Intern Societe Generale , also \\n Software Developer . \\n word advice - \\n\\n Focus academic . let cg fall abysmally . \\n moreover , read company go interview , \\n always clear - headed keep calm . \\n Core - Chemical  \\n 24 \\n Present Past Recruiters \\n Ola Cabs \\n 25 \\n Ola Cabs \\n 25 \\n introduction \\n Interviewee - Arjun Singh Tyagi   ( 2019b5a10841p ) \\n Job Role - Chemical core \\n number offer make - 1 \\n Selection Process \\n branch open - Chemical \\n CG Cutoff - 6.5 \\n Recruitment process - \\n Round 1 - Online test'),\n",
              "  Document(page_content='precede Resume Shortlist , round comprise logical aptitude \\n behavioral question , judge candidate ’s mental reasoning skill . \\n\\n Round 2 - Technical Interview \\n\\n since job profile require deal patent different \\n company meet requirement , mixture technology \\n consulting . therefore , round , ask core electronic \\n concept previous project . \\n\\n Round 3 - Technical Interview \\n\\n round consist case study base patent . test \\n knowledge industry well reasoning skill . \\n unitedlex \\n 23 \\n Round 4 - hr Interview \\n\\n Basic HR question ask , test compatibility , teamwork , etc . \\n question also ask SDLC - Software Development Life Cycle . \\n Personal Experience \\n Prior internship experience - \\n\\n ps-1 Purchasing & Parts , remotely work Software \\n Developer . also Summer Intern Societe Generale , also \\n Software Developer . \\n word advice - \\n\\n Focus academic . let cg fall abysmally . \\n moreover , read company go interview , \\n always clear - headed keep calm . \\n Core - Chemical  \\n 24 \\n Present Past Recruiters \\n Ola Cabs \\n 25 \\n Ola Cabs \\n 25 \\n introduction \\n Interviewee - Arjun Singh Tyagi   ( 2019b5a10841p ) \\n Job Role - Chemical core \\n number offer make - 1 \\n Selection Process \\n branch open - Chemical \\n CG Cutoff - 6.5 \\n Recruitment process - \\n Round 1 - Online test'),\n",
              "  Document(page_content='ps-1 Purchasing & Parts , remotely work Software \\n Developer . also Summer Intern Societe Generale , also \\n Software Developer . \\n word advice - \\n\\n Focus academic . let cg fall abysmally . \\n moreover , read company go interview , \\n always clear - headed keep calm . \\n Core - Chemical  \\n 24 \\n Present Past Recruiters \\n Ola Cabs \\n 25 \\n Ola Cabs \\n 25 \\n introduction \\n Interviewee - Arjun Singh Tyagi   ( 2019b5a10841p ) \\n Job Role - Chemical core \\n number offer make - 1 \\n Selection Process \\n branch open - Chemical \\n CG Cutoff - 6.5 \\n Recruitment process - \\n Round 1 - Online test \\n\\n comprise 30 question answer 30 minute . question \\n lengthy gate - level , cover knowledge thermodynamic , \\n fluid mechanic , heat , etc . one well prepared online \\n assessment computer - adaptive test , mean \\n difficulty level question would adjust per one ’s performance . \\n moreover , question design company , \\n point search internet . \\n Round 2 - Technical Interview')]}"
            ]
          },
          "execution_count": 32,
          "metadata": {},
          "output_type": "execute_result"
        }
      ],
      "source": [
        "question = \"What are the relevant courses for ola cabs in chemical placements?\"\n",
        "qa_chain = get_qa_chain(question)\n",
        "result = qa_chain({\"query\": question})\n",
        "result"
      ]
    },
    {
      "cell_type": "code",
      "execution_count": null,
      "metadata": {
        "colab": {
          "base_uri": "https://localhost:8080/",
          "height": 151
        },
        "id": "8CJYQ3vWgMEg",
        "outputId": "eb03f557-19af-4721-a05e-96450c1efcaf"
      },
      "outputs": [
        {
          "data": {
            "text/markdown": [
              "The relevant courses for Ola Cabs in chemical placements are:\n",
              "\n",
              "* **CHE f213 - Chemical Engineering Thermodynamics**\n",
              "* **CHE F212 - Fluid Mechanics**\n",
              "* **CHE F241 - Heat Transfer**\n",
              "\n",
              "These courses cover the core chemical engineering concepts that are essential for a job in the chemical industry. \n",
              "\n",
              "Thanks for asking! \n"
            ],
            "text/plain": [
              "<IPython.core.display.Markdown object>"
            ]
          },
          "execution_count": 33,
          "metadata": {},
          "output_type": "execute_result"
        }
      ],
      "source": [
        "Markdown(result[\"result\"])"
      ]
    },
    {
      "cell_type": "code",
      "execution_count": null,
      "metadata": {
        "colab": {
          "base_uri": "https://localhost:8080/"
        },
        "collapsed": true,
        "id": "G1IrJ6g5gL-u",
        "outputId": "27082a5e-1882-44f1-949b-299948bbb589"
      },
      "outputs": [
        {
          "name": "stderr",
          "output_type": "stream",
          "text": [
            "/usr/local/lib/python3.10/dist-packages/langchain_google_genai/chat_models.py:352: UserWarning: Convert_system_message_to_human will be deprecated!\n",
            "  warnings.warn(\"Convert_system_message_to_human will be deprecated!\")\n"
          ]
        },
        {
          "data": {
            "text/plain": [
              "{'query': 'What are the relevant courses for ola cabs in tech placements?',\n",
              " 'result': 'The relevant courses for Ola Cabs tech placements are:\\n\\n* **CS F213 - Object-Oriented Programming:** This course is particularly helpful as it covers the fundamentals of object-oriented programming, which is essential for software development.\\n* **CS F211 - Data Structures and Algorithms:** This course is crucial for understanding the underlying principles of data structures and algorithms, which are essential for efficient software development.\\n* **CS F212 - Database Systems:** This course provides knowledge of database systems, which are essential for managing and storing large amounts of data, a critical aspect of many tech roles.\\n* **CS F303 - Computer Networks:** This course covers the fundamentals of computer networks, which are essential for understanding how data is transmitted and received over the internet.\\n* **CS F342 - Computer Architecture:** This course provides knowledge of computer architecture, which is essential for understanding how computers work at a low level.\\n* **CS F372 - Operating Systems:** This course covers the fundamentals of operating systems, which are essential for understanding how software interacts with hardware.\\n* **CS F464 - Machine Learning:** This course is particularly relevant for roles involving machine learning and data science.\\n\\nThanks for asking! \\n',\n",
              " 'source_documents': [Document(page_content='round entirely technical , focus resume basic \\n mathematical concept like Linearity property , Parametric , Polar , Implicit \\n Explicit equation . \\n\\n one Segmentation question ask - \" would identify object \\n different color image use graph ? \" \\n Round 2 - Technical \\n\\n give multiple scenario datum pull discussion datum \\n basis , networking , merge feature engineering . QuestionsÆ \\n Ð would build highly scalable model reach \\n entire world± \\n Ð since datum dynamic always upcoming , would implement \\n version control data± \\n Ð Discussion peer - - peer networking \\n Ola Cabs \\n 65 \\n Personal Experience \\n source preparation -/ \\n \\' LeetCode Striver Sheet DS \\x1c\\n \\' OOP course slide test decent enoug \\x1e\\n \\' textbook databases/ \\n \\' SQL lab sheet \\n word advice -/ \\n \\' personalize resume role companyE \\n \\' research company deeplyE \\n \\' not discourage one setback , keep strive \\n get ample amount opportunity bits Pilani . \\n CS F213 - object - orient Programming , particularly , study \\n material disburse course , quite helpful . \\n Relevant Courses Certifications \\n Round 3 - hr round'),\n",
              "  Document(page_content='round entirely technical , focus resume basic \\n mathematical concept like Linearity property , Parametric , Polar , Implicit \\n Explicit equation . \\n\\n one Segmentation question ask - \" would identify object \\n different color image use graph ? \" \\n Round 2 - Technical \\n\\n give multiple scenario datum pull discussion datum \\n basis , networking , merge feature engineering . QuestionsÆ \\n Ð would build highly scalable model reach \\n entire world± \\n Ð since datum dynamic always upcoming , would implement \\n version control data± \\n Ð Discussion peer - - peer networking \\n Ola Cabs \\n 65 \\n Personal Experience \\n source preparation -/ \\n \\' LeetCode Striver Sheet DS \\x1c\\n \\' OOP course slide test decent enoug \\x1e\\n \\' textbook databases/ \\n \\' SQL lab sheet \\n word advice -/ \\n \\' personalize resume role companyE \\n \\' research company deeplyE \\n \\' not discourage one setback , keep strive \\n get ample amount opportunity bits Pilani . \\n CS F213 - object - orient Programming , particularly , study \\n material disburse course , quite helpful . \\n Relevant Courses Certifications \\n Round 3 - hr round'),\n",
              "  Document(page_content='comprise 30 question answer 30 minute . question \\n lengthy gate - level , cover knowledge thermodynamic , \\n fluid mechanic , heat , etc . one well prepared online \\n assessment computer - adaptive test , mean \\n difficulty level question would adjust per one ’s performance . \\n moreover , question design company , \\n point search internet . \\n Round 2 - Technical Interview \\n\\n test , 5 student shortlist whole Chemical \\n department two round interview conduct . \\n discussion base resume . question cover ML project , \\n Chemical project , core Chemical concept . \\n Ola Cabs \\n 26 \\n Personal Experience \\n source preparation -0 \\n $ ML project give significant advantage \\n candidate recruitment process \\n $ GATE preparation would suffice online test . \\n word advice -0 \\n $ build - rounder profile focus Academics , Personality , \\n Extra - curricular \\n $ try maximize cgpa much possible \\n $ Projects Internships rewarding project good reflection \\n resume . however , try keep internship \\n resume relevant role apply . \\n \\x88 CHE f213 - Chemical Engineering Thermodynamic } \\n \\x7f CHE F212 - Fluid Mechanic } \\n \\x82 CHE F241 - Heat Transfer \\n Relevant Courses Certifications \\n Round 3 - hr Round'),\n",
              "  Document(page_content='comprise 30 question answer 30 minute . question \\n lengthy gate - level , cover knowledge thermodynamic , \\n fluid mechanic , heat , etc . one well prepared online \\n assessment computer - adaptive test , mean \\n difficulty level question would adjust per one ’s performance . \\n moreover , question design company , \\n point search internet . \\n Round 2 - Technical Interview \\n\\n test , 5 student shortlist whole Chemical \\n department two round interview conduct . \\n discussion base resume . question cover ML project , \\n Chemical project , core Chemical concept . \\n Ola Cabs \\n 26 \\n Personal Experience \\n source preparation -0 \\n $ ML project give significant advantage \\n candidate recruitment process \\n $ GATE preparation would suffice online test . \\n word advice -0 \\n $ build - rounder profile focus Academics , Personality , \\n Extra - curricular \\n $ try maximize cgpa much possible \\n $ Projects Internships rewarding project good reflection \\n resume . however , try keep internship \\n resume relevant role apply . \\n \\x88 CHE f213 - Chemical Engineering Thermodynamic } \\n \\x7f CHE F212 - Fluid Mechanic } \\n \\x82 CHE F241 - Heat Transfer \\n Relevant Courses Certifications \\n Round 3 - hr Round'),\n",
              "  Document(page_content='oa 2 hour long test comprising English , logic , code \\n question . four stage , stage hard last .   code \\n question revolve around Machine Learning ,   Data Science , Database \\n Systems . \\n Round 2 - Technical + HR Interview \\n\\n code round , 6 people shortlist one \\n round interview - start resume discussion , ask \\n question Operating Systems , Database Systems , well Data \\n Structures Algorithms . \\n National Payments Corporation India \\n ( NPCI ) \\n 63 \\n Personal Experience \\n source preparation - \\n\\n use LeetCode , GeeksforGeeks InterviewBit prepare \\n everything . slide CS cdc also pretty helpful cover \\n basic . \\n word advice - \\n\\n study basic everything CS thoroughly practice much DSA \\n possible . ’ \" good time \" start . importantly ,   not panic \\n confident answer . \\n \\x94\\x8f CS F211 - Data Structures Algorithm\\x89 \\n\\xa0 \\x8f CS F212 - Database System\\x89 \\n \\x81\\x8f CS F213 - Object - orient programmin\\x9e \\n { \\x8f CS F303 - Computer Network\\x89 \\n ~\\x8f CS F342 - Computer Architecturv \\n } \\x8f CS F372 - operate system\\x89 \\n s\\x8f bit F464 - Machine Learning \\n Relevant Courses Certifications \\n Ola Cabs \\n 64 \\n introduction \\n Interviewee - Sujay Rastogi   ( 2019b4a70741p ) \\n Job Role - Statistics \\n Number offer make - 2 ( 1 ML ) \\n Selection Process \\n branch open - \\n CG Cutoff -6 \\n Recruitment process - \\n Round 1 - tecnical \\n\\n round entirely technical , focus resume basic \\n mathematical concept like Linearity property , Parametric , Polar , Implicit \\n Explicit equation .')]}"
            ]
          },
          "execution_count": 34,
          "metadata": {},
          "output_type": "execute_result"
        }
      ],
      "source": [
        "question = \"What are the relevant courses for ola cabs in tech placements?\"\n",
        "qa_chain = get_qa_chain(question)\n",
        "result = qa_chain({\"query\": question})\n",
        "result"
      ]
    },
    {
      "cell_type": "code",
      "execution_count": null,
      "metadata": {
        "colab": {
          "base_uri": "https://localhost:8080/",
          "height": 301
        },
        "id": "ejLXzWD3gYxH",
        "outputId": "0aab5213-0030-45d9-b6c7-f61a6fc63a07"
      },
      "outputs": [
        {
          "data": {
            "text/markdown": [
              "The relevant courses for Ola Cabs tech placements are:\n",
              "\n",
              "* **CS F213 - Object-Oriented Programming:** This course is particularly helpful as it covers the fundamentals of object-oriented programming, which is essential for software development.\n",
              "* **CS F211 - Data Structures and Algorithms:** This course is crucial for understanding the underlying principles of data structures and algorithms, which are essential for efficient software development.\n",
              "* **CS F212 - Database Systems:** This course provides knowledge of database systems, which are essential for managing and storing large amounts of data, a critical aspect of many tech roles.\n",
              "* **CS F303 - Computer Networks:** This course covers the fundamentals of computer networks, which are essential for understanding how data is transmitted and received over the internet.\n",
              "* **CS F342 - Computer Architecture:** This course provides knowledge of computer architecture, which is essential for understanding how computers work at a low level.\n",
              "* **CS F372 - Operating Systems:** This course covers the fundamentals of operating systems, which are essential for understanding how software interacts with hardware.\n",
              "* **CS F464 - Machine Learning:** This course is particularly relevant for roles involving machine learning and data science.\n",
              "\n",
              "Thanks for asking! \n"
            ],
            "text/plain": [
              "<IPython.core.display.Markdown object>"
            ]
          },
          "execution_count": 35,
          "metadata": {},
          "output_type": "execute_result"
        }
      ],
      "source": [
        "Markdown(result[\"result\"])"
      ]
    },
    {
      "cell_type": "code",
      "execution_count": 11,
      "metadata": {
        "colab": {
          "base_uri": "https://localhost:8080/"
        },
        "id": "K4m_Nj8sjo1E",
        "outputId": "b45e2faa-ef37-4d61-9161-be06cc93d797"
      },
      "outputs": [
        {
          "name": "stderr",
          "output_type": "stream",
          "text": [
            "/usr/local/lib/python3.10/dist-packages/langchain_google_genai/chat_models.py:352: UserWarning: Convert_system_message_to_human will be deprecated!\n",
            "  warnings.warn(\"Convert_system_message_to_human will be deprecated!\")\n"
          ]
        },
        {
          "data": {
            "text/plain": [
              "{'query': 'What are the relevant courses for cohesity ?',\n",
              " 'result': 'The relevant courses for Cohesity are:\\n\\n* **EEE F111 - Electrical Sciences:** This course provides a fundamental understanding of electrical engineering principles, which are relevant to software engineering roles in companies like Cohesity that deal with hardware and infrastructure.\\n* **EEE/INSTR F244 - Microelectronic Circuits:** This course focuses on the design and analysis of microelectronic circuits, which are essential for understanding the hardware components used in data storage and management systems.\\n* **EEE F313 - Analog Digital VLSI Design:** This course delves into the design and implementation of Very Large Scale Integration (VLSI) circuits, which are crucial for building high-performance storage systems.\\n* **CS F111 - Computer Programming:** This course provides a foundation in programming concepts and techniques, which are essential for software development roles.\\n* **Math Courses:**  Mathematics courses like MATH F111, MATH F112, and MATH F211 are important for understanding algorithms, data structures, and other fundamental concepts used in software engineering.\\n\\nThese courses provide a strong foundation in the technical skills required for software engineering roles at Cohesity. \\n\\nThanks for asking! \\n',\n",
              " 'source_documents': [Document(page_content='word Advice - \\n\\n please skip class . tedious may , ensure \\n fundamental remain strong throughout . \\n Relevant Courses Certification \\n QH EEE f111 - electrical scienc= \\n # h ECE / EEE / instr F241 - Microprocessors Interfacin~ \\n _ H ECE / EEE / INSTR F242 - Control SystemA \\n\\xa0 H ECE / EEE / INSTR F243 - Signals SystemA \\n \\x9dH ECE / EEE / INSTR F244 - Microelectronic Circuits \\n Information Technology \\n 50 \\n Accenture \\n 52 \\n arcesium \\n 56 \\n Capital one \\n DE Shaw \\n DevRev \\n eightfold.ai \\n 68 \\n Flipkart \\n 70 \\n Goldman Sachs \\n 72 \\n IMC Trading \\n Google \\n 74 \\n Jaguar Land Rover \\n Cohesity \\n 62 \\n Amazon \\n 54 \\n Information Technology \\n 50 \\n Accenture \\n Arcesium \\n Capital One \\n Axis Bank \\n 58 \\n DE Shaw \\n 66 \\n eightfold.ai \\n Flipkart \\n Goldman Sachs \\n Google \\n 78 \\n Cohesity \\n 60 \\n Amazon \\n 76 \\n 64 \\n Information Technology \\n 50 \\n Société Générale \\n Tata Steel \\n Uber \\n Wells Fargo \\n 104 \\n Sprinklr \\n 98 \\n 86 \\n Nvidia \\n 84 \\n Information Technology \\n 51 \\n Rubrik \\n Samsung \\n NPCI \\n Microsoft \\n P&G \\n 80 \\n 82 \\n 90 \\n 88 \\n Present Previous recruiter \\n 102 \\n 100 \\n 96 \\n Accenture \\n 52 \\n introduction \\n Interviewee - Hemant Seshadri Nemani ( 2021AAPS2170P ) \\n Job Role - Advance Application Engineering Intern \\n Number offer make - 3 \\n Selection Process \\n branch open - except A7 - single dual degree student \\n eligible \\n\\n CG Cutoff - 7 + \\n Recruitment process - \\u2028\\n Round 1 - Resume Shortlisting \\n\\n Round 2 - Online assessment'),\n",
              "  Document(page_content='word Advice - \\n\\n please skip class . tedious may , ensure \\n fundamental remain strong throughout . \\n Relevant Courses Certification \\n QH EEE f111 - electrical scienc= \\n # h ECE / EEE / instr F241 - Microprocessors Interfacin~ \\n _ H ECE / EEE / INSTR F242 - Control SystemA \\n\\xa0 H ECE / EEE / INSTR F243 - Signals SystemA \\n \\x9dH ECE / EEE / INSTR F244 - Microelectronic Circuits \\n Information Technology \\n 50 \\n Accenture \\n 52 \\n arcesium \\n 56 \\n Capital one \\n DE Shaw \\n DevRev \\n eightfold.ai \\n 68 \\n Flipkart \\n 70 \\n Goldman Sachs \\n 72 \\n IMC Trading \\n Google \\n 74 \\n Jaguar Land Rover \\n Cohesity \\n 62 \\n Amazon \\n 54 \\n Information Technology \\n 50 \\n Accenture \\n Arcesium \\n Capital One \\n Axis Bank \\n 58 \\n DE Shaw \\n 66 \\n eightfold.ai \\n Flipkart \\n Goldman Sachs \\n Google \\n 78 \\n Cohesity \\n 60 \\n Amazon \\n 76 \\n 64 \\n Information Technology \\n 50 \\n Société Générale \\n Tata Steel \\n Uber \\n Wells Fargo \\n 104 \\n Sprinklr \\n 98 \\n 86 \\n Nvidia \\n 84 \\n Information Technology \\n 51 \\n Rubrik \\n Samsung \\n NPCI \\n Microsoft \\n P&G \\n 80 \\n 82 \\n 90 \\n 88 \\n Present Previous recruiter \\n 102 \\n 100 \\n 96 \\n Accenture \\n 52 \\n introduction \\n Interviewee - Hemant Seshadri Nemani ( 2021AAPS2170P ) \\n Job Role - Advance Application Engineering Intern \\n Number offer make - 3 \\n Selection Process \\n branch open - except A7 - single dual degree student \\n eligible \\n\\n CG Cutoff - 7 + \\n Recruitment process - \\u2028\\n Round 1 - Resume Shortlisting \\n\\n Round 2 - Online assessment'),\n",
              "  Document(page_content='lecture aforementioned course truly beneficial \\n valuable . provide insightful knowledge clarity subject \\n matter . course enhance understanding . \\n word advice - \\n\\n instead skim everything , focus master basic \\n important topic . be like build strong foundation house ; \\n , tackle anything confidence understanding . \\n \\x95v EEE F111 - electrical Sciences\\x8e \\n \\x81v EEE / instr F244 - Microelectronic Circuits\\x8e \\n ov EEE F313 - Analog Digital VLSI Design\\x8e \\n sv CS F111 - Computer Programmin~ \\n gv Math course - MATH F111 ( Mathematics ) , MATH F112 ( Mathematics II ) , \\n MATH F211 ( Mathematics III ) \\n Relevant Courses Certifications \\n Round 5 - hr Interview \\n\\n Basic HR Questions ask , like skill , good fit \\n job , willing relocate , etc . \\n SEDEMAC Mechatronics Pvt Ltd \\n 34 \\n introduction \\n Interviewee - Sukriti Phogat ( 2020a7ps0071p ) \\n Job Role - Engineer , Embedded Software \\n Number offer make - 1 \\n Selection Process \\n branch open - CS , EEE , ENI \\n CG Cutoff - 6 + \\n recruitment process - \\n Round 1 - Online Assessment \\n\\n round consist 5 question base Data Structures \\n Algorithms . easy . \\n Round 2 - technical interview \\n\\n round aim test fundamental Data Structures \\n Algorithms . \\n Round 3 - Technical Interview II'),\n",
              "  Document(page_content='lecture aforementioned course truly beneficial \\n valuable . provide insightful knowledge clarity subject \\n matter . course enhance understanding . \\n word advice - \\n\\n instead skim everything , focus master basic \\n important topic . be like build strong foundation house ; \\n , tackle anything confidence understanding . \\n \\x95v EEE F111 - electrical Sciences\\x8e \\n \\x81v EEE / instr F244 - Microelectronic Circuits\\x8e \\n ov EEE F313 - Analog Digital VLSI Design\\x8e \\n sv CS F111 - Computer Programmin~ \\n gv Math course - MATH F111 ( Mathematics ) , MATH F112 ( Mathematics II ) , \\n MATH F211 ( Mathematics III ) \\n Relevant Courses Certifications \\n Round 5 - hr Interview \\n\\n Basic HR Questions ask , like skill , good fit \\n job , willing relocate , etc . \\n SEDEMAC Mechatronics Pvt Ltd \\n 34 \\n introduction \\n Interviewee - Sukriti Phogat ( 2020a7ps0071p ) \\n Job Role - Engineer , Embedded Software \\n Number offer make - 1 \\n Selection Process \\n branch open - CS , EEE , ENI \\n CG Cutoff - 6 + \\n recruitment process - \\n Round 1 - Online Assessment \\n\\n round consist 5 question base Data Structures \\n Algorithms . easy . \\n Round 2 - technical interview \\n\\n round aim test fundamental Data Structures \\n Algorithms . \\n Round 3 - Technical Interview II'),\n",
              "  Document(page_content='Round 3 - hr Interview \\n\\n question basis project club , well \\n generic question , none relate Capital One . ’d still \\n recommend go Capital one website ppt thoroughly \\n beforehand . \\n Relevant Courses Certification \\n long strong fundamental second year , far well \\n focus competitive coding problem - solving read \\n course . \\n Personal Experiences \\n source preparation - \\n\\n Leetcode , Neetcode , GeeksforGeeks . \\n\\n word Advice - \\n\\n certainly communicate problem - solve approach . also , puzzle \\n round , mention think process optimisation without fail . \\n Cohesity \\n 62 \\n introduction \\n Interviewee - Adarsh Agarwal ( 2020b5a70924p ) \\n Job Role - SWE Intern \\n Number offer make - 1 \\n Selection Process \\n branch open - A7 - single dual degree student \\n eligible appear process \\n\\n CG Cutoff - 7 + \\n Recruitment process - \\u2028\\n Round 1 - Online Assessment \\n\\n test purely code - base . one question base Greedy \\n algorithm standard dp question . round , 4 \\n people shortlist ( 3 singlite 1 dualite ) . \\n\\n Round 2 - Technical Interview \\n\\n 40 - 45 min round . ask three questions:¤ \\n \\x97è find diameter binary tre ® \\n \\x89è ask subject comfortable , specifically \\n ask comfort CS F241 - Microprocessors \\n Interfacing . ask know page ask \\n question . \\n ’re give large file store standard file \\n take serial input . separate 0s 1s ( difficult \\n question page ) . not fully implement explain approach \\n adequate . \\n Cohesity \\n 63 \\n Round 3 - hr interview')]}"
            ]
          },
          "execution_count": 11,
          "metadata": {},
          "output_type": "execute_result"
        }
      ],
      "source": [
        "question = \"What are the relevant courses for cohesity ?\"\n",
        "qa_chain = get_qa_chain(question)\n",
        "result = qa_chain({\"query\": question})\n",
        "result"
      ]
    },
    {
      "cell_type": "code",
      "execution_count": 12,
      "metadata": {
        "colab": {
          "base_uri": "https://localhost:8080/",
          "height": 273
        },
        "id": "lFBi3pzvlIwi",
        "outputId": "2fe1ed42-04e7-4abc-83ae-328267e1d02e"
      },
      "outputs": [
        {
          "data": {
            "text/markdown": [
              "The relevant courses for Cohesity are:\n",
              "\n",
              "* **EEE F111 - Electrical Sciences:** This course provides a fundamental understanding of electrical engineering principles, which are relevant to software engineering roles in companies like Cohesity that deal with hardware and infrastructure.\n",
              "* **EEE/INSTR F244 - Microelectronic Circuits:** This course focuses on the design and analysis of microelectronic circuits, which are essential for understanding the hardware components used in data storage and management systems.\n",
              "* **EEE F313 - Analog Digital VLSI Design:** This course delves into the design and implementation of Very Large Scale Integration (VLSI) circuits, which are crucial for building high-performance storage systems.\n",
              "* **CS F111 - Computer Programming:** This course provides a foundation in programming concepts and techniques, which are essential for software development roles.\n",
              "* **Math Courses:**  Mathematics courses like MATH F111, MATH F112, and MATH F211 are important for understanding algorithms, data structures, and other fundamental concepts used in software engineering.\n",
              "\n",
              "These courses provide a strong foundation in the technical skills required for software engineering roles at Cohesity. \n",
              "\n",
              "Thanks for asking! \n"
            ],
            "text/plain": [
              "<IPython.core.display.Markdown object>"
            ]
          },
          "execution_count": 12,
          "metadata": {},
          "output_type": "execute_result"
        }
      ],
      "source": [
        "Markdown(result[\"result\"])"
      ]
    },
    {
      "cell_type": "code",
      "execution_count": null,
      "metadata": {
        "id": "AfMJq1KDlJ1b"
      },
      "outputs": [],
      "source": []
    }
  ],
  "metadata": {
    "colab": {
      "provenance": []
    },
    "kernelspec": {
      "display_name": "Python 3",
      "name": "python3"
    },
    "language_info": {
      "name": "python"
    }
  },
  "nbformat": 4,
  "nbformat_minor": 0
}
